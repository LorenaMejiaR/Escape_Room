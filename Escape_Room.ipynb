{
 "cells": [
  {
   "cell_type": "code",
   "execution_count": 3,
   "id": "1eae1f4d-dcb0-4fd2-824d-9a9cee486aa2",
   "metadata": {},
   "outputs": [],
   "source": [
    "rooms = {\"Game Room\": True, \"Bedroom 1\": False, \"Bedroom 2\": False, \"Living Room\": False, \"Outside\": False}"
   ]
  },
  {
   "cell_type": "code",
   "execution_count": null,
   "id": "3837d13c-97f0-47f7-96c4-58341066cd71",
   "metadata": {},
   "outputs": [],
   "source": [
    "rooms = {\n",
    "    'Game Room': {\n",
    "        'items': {'piano': 'key_A'},\n",
    "        'doors': ['A']}"
   ]
  },
  {
   "cell_type": "code",
   "execution_count": null,
   "id": "8aabf240-38ef-450e-b1b1-f97879c1855e",
   "metadata": {},
   "outputs": [],
   "source": [
    "rooms = {\n",
    "    'Bedroom 2': {\n",
    "        'items': {'double bed': 'key_C'},\n",
    "        'doors': ['B']}"
   ]
  }
 ],
 "metadata": {
  "kernelspec": {
   "display_name": "Python 3 (ipykernel)",
   "language": "python",
   "name": "python3"
  },
  "language_info": {
   "codemirror_mode": {
    "name": "ipython",
    "version": 3
   },
   "file_extension": ".py",
   "mimetype": "text/x-python",
   "name": "python",
   "nbconvert_exporter": "python",
   "pygments_lexer": "ipython3",
   "version": "3.12.4"
  }
 },
 "nbformat": 4,
 "nbformat_minor": 5
}
